{
 "cells": [
  {
   "cell_type": "code",
   "execution_count": 1,
   "metadata": {},
   "outputs": [],
   "source": [
    "import spacy\n",
    "import codecs\n",
    "from __future__ import print_function\n",
    "nlp = spacy.load('en', disable=['parser', 'ner'])"
   ]
  },
  {
   "cell_type": "code",
   "execution_count": 2,
   "metadata": {},
   "outputs": [],
   "source": [
    "def tag(token):\n",
    "    word = token.text\n",
    "    tag = token.tag_\n",
    "    return word+'_'+tag"
   ]
  },
  {
   "cell_type": "code",
   "execution_count": 75,
   "metadata": {},
   "outputs": [],
   "source": [
    "import thinc.extra.datasets\n",
    "data, _ = thinc.extra.datasets.imdb()\n",
    "texts, _ = zip(*data[-10000:])"
   ]
  },
  {
   "cell_type": "code",
   "execution_count": 76,
   "metadata": {},
   "outputs": [
    {
     "name": "stdout",
     "output_type": "stream",
     "text": [
      "10000\n"
     ]
    }
   ],
   "source": [
    "print(len(texts))"
   ]
  },
  {
   "cell_type": "code",
   "execution_count": 77,
   "metadata": {},
   "outputs": [],
   "source": [
    "filtered = []\n",
    "for doc in texts:\n",
    "    filtered.append(' '.join(w.text for w in nlp(doc) if w.pos_ in ['NOUN', 'VERB']))"
   ]
  },
  {
   "cell_type": "code",
   "execution_count": 78,
   "metadata": {},
   "outputs": [
    {
     "name": "stdout",
     "output_type": "stream",
     "text": [
      "[(u'is', 43748), (u'was', 20075), (u'movie', 17216), (u'film', 16060), (u\"'s\", 12189)]\n"
     ]
    }
   ],
   "source": [
    "from collections import Counter\n",
    "word_freq = Counter()\n",
    "for t in filtered:\n",
    "    word_freq.update(t.split())\n",
    "print(word_freq.most_common(5))"
   ]
  },
  {
   "cell_type": "code",
   "execution_count": 79,
   "metadata": {},
   "outputs": [],
   "source": [
    "vocab = [x[0] for x in word_freq.most_common(1550)]\n",
    "assert len(vocab) == 1550"
   ]
  },
  {
   "cell_type": "code",
   "execution_count": 80,
   "metadata": {},
   "outputs": [
    {
     "name": "stdout",
     "output_type": "stream",
     "text": [
      "[[    0 99400 92004 ...   467   432   512]\n",
      " [99400     0 47475 ...   206   219   174]\n",
      " [92004 47475     0 ...   152   193   143]\n",
      " ...\n",
      " [  467   206   152 ...     0     2     2]\n",
      " [  432   219   193 ...     2     0     0]\n",
      " [  512   174   143 ...     2     0     0]]\n"
     ]
    }
   ],
   "source": [
    "from sklearn.feature_extraction.text import CountVectorizer\n",
    "docs = filtered\n",
    "count_model = CountVectorizer(vocabulary=vocab)\n",
    "X = count_model.fit_transform(docs)\n",
    "Xc = (X.T * X) \n",
    "Xc.setdiag(0)\n",
    "print(Xc.todense())"
   ]
  },
  {
   "cell_type": "code",
   "execution_count": 81,
   "metadata": {},
   "outputs": [],
   "source": [
    "# invert the vocabulary\n",
    "di = dict([[v,k] for k,v in count_model.vocabulary_.items()])"
   ]
  },
  {
   "cell_type": "code",
   "execution_count": 82,
   "metadata": {},
   "outputs": [
    {
     "data": {
      "text/plain": [
       "(1550, 1550)"
      ]
     },
     "execution_count": 82,
     "metadata": {},
     "output_type": "execute_result"
    }
   ],
   "source": [
    "Xc.shape"
   ]
  },
  {
   "cell_type": "code",
   "execution_count": 83,
   "metadata": {},
   "outputs": [],
   "source": [
    "with open('mono.dm',\"w\") as o:\n",
    "    for word, counts in zip(vocab, Xc.toarray()):\n",
    "        o.write(word.encode('utf-8')+' '+\" \".join(map(str, counts)))\n",
    "        o.write('\\n')"
   ]
  },
  {
   "cell_type": "code",
   "execution_count": 84,
   "metadata": {},
   "outputs": [],
   "source": [
    "with open('mono.rows', 'w') as o:\n",
    "    for w in vocab:\n",
    "        o.write(w.encode('utf-8'))\n",
    "        o.write('\\n')"
   ]
  },
  {
   "cell_type": "code",
   "execution_count": 85,
   "metadata": {},
   "outputs": [],
   "source": [
    "with open('mono.cols', 'w') as o:\n",
    "    for w in vocab:\n",
    "        o.write(w.encode('utf-8'))\n",
    "        o.write('\\n')"
   ]
  },
  {
   "cell_type": "code",
   "execution_count": 86,
   "metadata": {},
   "outputs": [],
   "source": [
    "from composes.semantic_space.space import Space\n",
    "\n",
    "#create a space from co-occurrence counts in sparse format\n",
    "my_space = Space.build(data = \"./mono.dm\",\n",
    "                       rows = \"./mono.rows\",\n",
    "                       cols = \"./mono.cols\",\n",
    "                       format = \"dm\")"
   ]
  },
  {
   "cell_type": "code",
   "execution_count": 92,
   "metadata": {},
   "outputs": [
    {
     "name": "stdout",
     "output_type": "stream",
     "text": [
      "[('watch', 0.9999999999999999), ('like', 0.9960006811821124), ('lot', 0.9957635405505887), ('give', 0.9955334607061698), ('watching', 0.9953829088219986)]\n"
     ]
    }
   ],
   "source": [
    "from composes.similarity.cos import CosSimilarity\n"
   ]
  },
  {
   "cell_type": "code",
   "execution_count": 93,
   "metadata": {},
   "outputs": [
    {
     "name": "stdout",
     "output_type": "stream",
     "text": [
      "[('is', 0.9999999999999998), ('seemed', 0.8046856388600236), ('sat', 0.7979291245288295), ('went', 0.7901582461772928), ('rented', 0.789837450921472)]\n",
      "[('was', 1.0000000000000002), ('fails', 0.958414549691608), ('deserves', 0.9567530492543871), ('makes', 0.9534803352206943), ('add', 0.9530460131948736)]\n",
      "[('movie', 0.9999999999999998), ('show', 0.9791018375391118), ('series', 0.9767045873087746), ('land', 0.9744854424598389), ('belief', 0.9719459802706958)]\n",
      "[('film', 1.0), ('series', 0.9739397474509586), ('show', 0.973368591107264), ('door', 0.97231024407701), ('return', 0.971558815826768)]\n",
      "[('is', 0.0), ('was', 0.0), ('movie', 0.0), ('film', 0.0), (\"'s\", 0.0)]\n"
     ]
    }
   ],
   "source": [
    "for w in word_freq.most_common(5):\n",
    "    print(my_space.get_neighbours(w[0], 5, CosSimilarity()))"
   ]
  }
 ],
 "metadata": {
  "kernelspec": {
   "display_name": "Python 2",
   "language": "python",
   "name": "python2"
  },
  "language_info": {
   "codemirror_mode": {
    "name": "ipython",
    "version": 2
   },
   "file_extension": ".py",
   "mimetype": "text/x-python",
   "name": "python",
   "nbconvert_exporter": "python",
   "pygments_lexer": "ipython2",
   "version": "2.7.14"
  }
 },
 "nbformat": 4,
 "nbformat_minor": 2
}
